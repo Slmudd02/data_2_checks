{
 "cells": [
  {
   "cell_type": "markdown",
   "id": "a5e91bcb",
   "metadata": {},
   "source": [
    "# Pull in data from an API"
   ]
  },
  {
   "cell_type": "code",
   "execution_count": null,
   "id": "fae6a5ac-48f4-4800-9e59-fca27945cda0",
   "metadata": {},
   "outputs": [],
   "source": [
    "import requests\n",
    "import pandas as pd"
   ]
  },
  {
   "cell_type": "code",
   "execution_count": null,
   "id": "64429281-6d23-4dd7-ac1b-b3da3ab98d35",
   "metadata": {},
   "outputs": [],
   "source": [
    "base = 'https://api.coindesk.com'\n",
    "endpoint = '/v1/bpi/currentprice.json'\n",
    "r = requests.get(base+endpoint)\n",
    "r\n"
   ]
  },
  {
   "cell_type": "code",
   "execution_count": null,
   "id": "797d63bb-c7ba-452c-b52f-7ca674440f76",
   "metadata": {},
   "outputs": [],
   "source": [
    "df = pd.DataFrame(r.json())\n",
    "df"
   ]
  },
  {
   "cell_type": "markdown",
   "id": "53c8d664",
   "metadata": {},
   "source": [
    "# Find and print TWO descriptive statistics about your data."
   ]
  },
  {
   "cell_type": "code",
   "execution_count": null,
   "id": "aa20f9d3-865e-44b8-8a3b-5470a93fda62",
   "metadata": {},
   "outputs": [],
   "source": [
    "print(type(r.json()))\n",
    "print(r.json().keys())"
   ]
  },
  {
   "cell_type": "code",
   "execution_count": null,
   "id": "ba9c0448-8140-4692-b7d0-afc8a8afde23",
   "metadata": {
    "jupyter": {
     "outputs_hidden": true
    },
    "tags": []
   },
   "outputs": [],
   "source": [
    "df = pd.DataFrame(r.json())\n",
    "print(df.shape)"
   ]
  },
  {
   "cell_type": "code",
   "execution_count": null,
   "id": "52953d32-2cb9-4783-a454-e69f2ee0a79b",
   "metadata": {},
   "outputs": [],
   "source": [
    "BPI = pd.DataFrame(r.json()['bpi'])\n",
    "BPI"
   ]
  },
  {
   "cell_type": "code",
   "execution_count": null,
   "id": "4f55df3f-ae37-4a7e-934d-011de90a4f76",
   "metadata": {},
   "outputs": [],
   "source": [
    "BPI.columns"
   ]
  },
  {
   "cell_type": "markdown",
   "id": "5d6929c0",
   "metadata": {},
   "source": [
    "# Select and print the SECOND AND THIRD columns of your data frame."
   ]
  },
  {
   "cell_type": "code",
   "execution_count": null,
   "id": "30abdff8-8ed8-4c1c-b5b6-5f3734cb3e7f",
   "metadata": {},
   "outputs": [],
   "source": [
    "columns = df.iloc[:, 1:3]\n",
    "columns"
   ]
  },
  {
   "cell_type": "markdown",
   "id": "4652fdad",
   "metadata": {},
   "source": [
    "# Select and print the FIRST 4 rows of you data frame."
   ]
  },
  {
   "cell_type": "code",
   "execution_count": null,
   "id": "c52c5491-db24-4317-8f03-54cf982c1a21",
   "metadata": {},
   "outputs": [],
   "source": [
    "df.iloc[:4]"
   ]
  },
  {
   "cell_type": "markdown",
   "id": "5b4bc407",
   "metadata": {},
   "source": [
    "# Write a query in Pandas "
   ]
  },
  {
   "cell_type": "code",
   "execution_count": null,
   "id": "fdf01e47-df47-4423-b053-b2353eb5c4ba",
   "metadata": {},
   "outputs": [],
   "source": [
    "df[df['bpi'] == \"NaN\"]"
   ]
  },
  {
   "cell_type": "code",
   "execution_count": 2,
   "id": "c56db617",
   "metadata": {},
   "outputs": [
    {
     "data": {
      "text/plain": [
       "'C:\\\\Users\\\\shala'"
      ]
     },
     "execution_count": 2,
     "metadata": {},
     "output_type": "execute_result"
    }
   ],
   "source": [
    "%pwd"
   ]
  },
  {
   "cell_type": "code",
   "execution_count": null,
   "id": "34f9a0c5",
   "metadata": {},
   "outputs": [],
   "source": []
  }
 ],
 "metadata": {
  "kernelspec": {
   "display_name": "Python 3 (ipykernel)",
   "language": "python",
   "name": "python3"
  },
  "language_info": {
   "codemirror_mode": {
    "name": "ipython",
    "version": 3
   },
   "file_extension": ".py",
   "mimetype": "text/x-python",
   "name": "python",
   "nbconvert_exporter": "python",
   "pygments_lexer": "ipython3",
   "version": "3.9.7"
  }
 },
 "nbformat": 4,
 "nbformat_minor": 5
}
